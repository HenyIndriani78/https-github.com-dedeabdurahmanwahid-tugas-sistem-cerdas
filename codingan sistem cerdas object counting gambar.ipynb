{
 "cells": [
  {
   "cell_type": "code",
   "execution_count": null,
   "metadata": {},
   "outputs": [],
   "source": [
    "! pip install opencv-python"
   ]
  },
  {
   "cell_type": "code",
   "execution_count": null,
   "metadata": {},
   "outputs": [],
   "source": [
    "import os\n",
    "import numpy as np\n",
    "import matplotlib.pyplot as plt\n",
    "import cv2\n"
   ]
  },
  {
   "cell_type": "code",
   "execution_count": null,
   "metadata": {},
   "outputs": [],
   "source": [
    "from google.colab.patches import cv2_imshow\n",
    "img = cv2.imread('toyota-rush2.jpg', cv2.IMREAD_UNCHANGED)\n",
    "cv2_imshow(img)\n",
    "graying = cv2.cvtColor(np.array(img),cv2.COLOR_BGR2GRAY);\n",
    "cv2_imshow(graying)\n",
    "\n"
   ]
  },
  {
   "cell_type": "code",
   "execution_count": null,
   "metadata": {},
   "outputs": [],
   "source": [
    "from google.colab.patches import cv2_imshow\n",
    "img = cv2.imread('toyota-rush.jpg', cv2.IMREAD_UNCHANGED)\n",
    "cv2_imshow(img)\n",
    "graying = cv2.cvtColor(np.array(img),cv2.COLOR_BGR2GRAY);\n",
    "cv2_imshow(graying)\n"
   ]
  }
 ],
 "metadata": {
  "language_info": {
   "name": "python"
  },
  "orig_nbformat": 4
 },
 "nbformat": 4,
 "nbformat_minor": 2
}
